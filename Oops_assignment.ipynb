{
  "nbformat": 4,
  "nbformat_minor": 0,
  "metadata": {
    "colab": {
      "provenance": []
    },
    "kernelspec": {
      "name": "python3",
      "display_name": "Python 3"
    },
    "language_info": {
      "name": "python"
    }
  },
  "cells": [
    {
      "cell_type": "markdown",
      "source": [
        "# **Python OOPs Questions**\n",
        "\n",
        "**Theory Questions and Answer**\n",
        "\n",
        "1. What is Object-Oriented Programming (OOP) ?\n",
        "\n",
        "Ans- Object-Oriented Programming (OOP) is a way of writing programs using **objects**, which are models of real-world things. It helps organize code by grouping data and actions together. The main concepts of OOP are:  \n",
        "\n",
        "- **Class**: A blueprint for creating objects.  \n",
        "- **Object**: An instance of a class.  \n",
        "- **Encapsulation**: Hiding data inside a class to protect it.  \n",
        "- **Inheritance**: A class can use properties of another class.  \n",
        "- **Polymorphism**: One function can work in different ways.  \n",
        "\n",
        "OOP makes code **reusable, organized, and easy to manage**.\n",
        "\n",
        "2. What is a class in OOP ?\n",
        "\n",
        "Ans- A class in Object-Oriented Programming (OOP) is a blueprint for creating objects. It defines properties (variables) and behaviors (methods) that objects of that class will have.\n",
        "\n",
        "For example: class Car:\n",
        "    def __init__(self, brand, color):\n",
        "        self.brand = brand\n",
        "        self.color = color\n",
        "\n",
        "    def drive(self):\n",
        "        print(f\"The {self.color} {self.brand} is driving.\")\n",
        " Here, Car is a class, and objects like Car(\"Toyota\", \"Red\") can be created from it.\n",
        "\n",
        "3. What is an object in OOP ?\n",
        "\n",
        "Ans- An object in OOP (Object-Oriented Programming) is an instance of a class. It has attributes (data) and methods (functions) that define its behavior. Example:\n",
        "\n",
        "python\n",
        "Copy\n",
        "Edit\n",
        "class Car:\n",
        "    def __init__(self, brand):\n",
        "        self.brand = brand\n",
        "    \n",
        "    def show_brand(self):\n",
        "        print(self.brand)\n",
        "\n",
        "my_car = Car(\"Toyota\")  # Object of class Car\n",
        "my_car.show_brand()  # Output: Toyota\n",
        "\n",
        "4. What is the difference between abstraction and encapsulation ?\n",
        "\n",
        "Ans- **Abstraction** hides unnecessary details and shows only important features.  \n",
        "**Encapsulation** hides data by keeping it private and allows access through methods.  \n",
        "\n",
        "Example:  \n",
        "- **Abstraction**: A car's driver only sees the steering and pedals, not the engine details.  \n",
        "- **Encapsulation**: The engine's internal parts are hidden and can only be controlled through buttons or keys.\n",
        "\n",
        "5. What are dunder methods in Python ?\n",
        "\n",
        "Ans- Dunder (double underscore) methods in Python are special methods with names that start and end with `__`, like `__init__` and `__str__`. They let you define how objects behave with built-in operations, such as creating objects, printing, or adding.\n",
        "\n",
        "6. Explain the concept of inheritance in OOP ?\n",
        "\n",
        "Ans- Inheritance in OOP allows a class (child) to inherit properties and methods from another class (parent). This helps in code reuse and organizing programs efficiently.\n",
        "\n",
        "7. What is polymorphism in OOP ?\n",
        "\n",
        "Ans- Polymorphism in OOP means the ability of a function, method, or object to take multiple forms. It allows one interface to be used for different data types or classes. Example: A function named `draw()` can be used for both circles and squares.\n",
        "\n",
        "8.  How is encapsulation achieved in Python ?\n",
        "\n",
        "Ans- Encapsulation in Python is achieved using **private** and **protected** variables:  \n",
        "\n",
        "- **Private:** Prefix with `__` (double underscore) → `__var`  \n",
        "- **Protected:** Prefix with `_` (single underscore) → `_var`  \n",
        "- Use **getter and setter** methods to access or modify private data.  \n",
        "\n",
        "Example:  \n",
        "```python\n",
        "class Person:\n",
        "    def __init__(self, name):\n",
        "        self.__name = name  # Private variable\n",
        "\n",
        "    def get_name(self):  # Getter\n",
        "        return self.__name\n",
        "\n",
        "    def set_name(self, new_name):  # Setter\n",
        "        self.__name = new_name\n",
        "\n",
        "p = Person(\"Alice\")\n",
        "print(p.get_name())  # Accessing private variable via method\n",
        "```\n",
        "\n",
        "9. What is a constructor in Python ?\n",
        "\n",
        "Ans- A **constructor** in Python is a special method called `__init__()`. It runs automatically when an object of a class is created and is used to initialize variables.  \n",
        "\n",
        "Example:  \n",
        "```python\n",
        "class Car:\n",
        "    def __init__(self, brand):\n",
        "        self.brand = brand\n",
        "\n",
        "my_car = Car(\"Toyota\")\n",
        "print(my_car.brand)  # Output: Toyota\n",
        "```\n",
        "\n",
        "10. What are class and static methods in Python ?\n",
        "\n",
        "Ans- In Python:  \n",
        "\n",
        "- **Class Method** (`@classmethod`): Works with the class, not an instance. It takes `cls` as the first parameter and can modify class variables.  \n",
        "\n",
        "- **Static Method** (`@staticmethod`): Doesn’t take `self` or `cls`. It behaves like a normal function but belongs to the class for organization.  \n",
        "\n",
        "Example:  \n",
        "```python\n",
        "class MyClass:\n",
        "    class_var = \"I am a class variable\"\n",
        "\n",
        "    @classmethod\n",
        "    def class_method(cls):\n",
        "        return f\"Class method: {cls.class_var}\"\n",
        "\n",
        "    @staticmethod\n",
        "    def static_method():\n",
        "        return \"Static method: No class or instance needed\"\n",
        "\n",
        "print(MyClass.class_method())  # Works with class\n",
        "print(MyClass.static_method()) # Independent function\n",
        "```\n",
        "\n",
        "11. What is method overloading in Python ?\n",
        "\n",
        "Ans- Method overloading in Python means defining multiple methods with the same name but different parameters. However, Python does not support true method overloading like other languages. Instead, you can use default arguments or `*args` and `**kwargs` to achieve similar behavior.  \n",
        "\n",
        "Example:  \n",
        "```python\n",
        "class Example:\n",
        "    def show(self, a=None, b=None):\n",
        "        if a is not None and b is not None:\n",
        "            print(a, b)\n",
        "        elif a is not None:\n",
        "            print(a)\n",
        "        else:\n",
        "            print(\"No arguments\")\n",
        "\n",
        "obj = Example()\n",
        "obj.show()       # No arguments\n",
        "obj.show(10)     # 10\n",
        "obj.show(10, 20) # 10 20\n",
        "```\n",
        "\n",
        "12. What is method overriding in OOP?\n",
        "\n",
        "Ans- Method overriding in OOP is when a subclass provides a new version of a method that already exists in its parent class. The method in the subclass must have the same name, return type, and parameters as the one in the parent class. It allows a subclass to customize or extend the behavior of the parent class’s method.\n",
        "\n",
        "13. What is a property decorator in Python ?\n",
        "\n",
        "Ans- A **property decorator** (`@property`) in Python is used to define a method that acts like an attribute. It allows you to control access to a class attribute while keeping the syntax simple.  \n",
        "\n",
        "### Example:  \n",
        "```python\n",
        "class Person:\n",
        "    def __init__(self, name):\n",
        "        self._name = name\n",
        "\n",
        "    @property\n",
        "    def name(self):  # Getter method\n",
        "        return self._name\n",
        "\n",
        "p = Person(\"Alice\")\n",
        "print(p.name)  # Access like an attribute\n",
        "```\n",
        "\n",
        "This makes `name` a read-only property.\n",
        "\n",
        "14. Why is polymorphism important in OOP ?\n",
        "\n",
        "Ans- Polymorphism is important in OOP because it allows one interface to be used for different data types, making code more flexible, reusable, and easier to maintain. It helps in method overriding and method overloading, allowing objects to behave differently based on their types.\n",
        "\n",
        "15. What is an abstract class in Python?\n",
        "\n",
        "Ans- An **abstract class** in Python is a class that **cannot be instantiated** and is used as a blueprint for other classes. It is defined using the `ABC` module and contains **abstract methods**, which must be implemented by its subclasses.  \n",
        "\n",
        "Example:  \n",
        "```python\n",
        "from abc import ABC, abstractmethod\n",
        "\n",
        "class Animal(ABC):\n",
        "    @abstractmethod\n",
        "    def make_sound(self):\n",
        "        pass  # Must be implemented in subclasses\n",
        "\n",
        "class Dog(Animal):\n",
        "    def make_sound(self):\n",
        "        return \"Woof!\"\n",
        "\n",
        "dog = Dog()\n",
        "print(dog.make_sound())  # Output: Woof!\n",
        "```\n",
        "\n",
        "**Key Points:**  \n",
        "✅ Defined using `ABC` (Abstract Base Class).  \n",
        "✅ Contains at least one `@abstractmethod`.  \n",
        "✅ Cannot create objects from it directly.  \n",
        "✅ Used for enforcing method implementation in child classes.\n",
        "\n",
        "16. What are the advantages of OOP ?\n",
        "\n",
        "Ans- Object-Oriented Programming (OOP) has several advantages:  \n",
        "\n",
        "1. **Reusability** – Use the same code in different programs (via classes and objects).  \n",
        "2. **Encapsulation** – Protect data by restricting direct access.  \n",
        "3. **Abstraction** – Hide complex details and show only what’s necessary.  \n",
        "4. **Polymorphism** – Use one function in different ways.  \n",
        "5. **Inheritance** – Share properties and methods between classes to reduce code duplication.\n",
        "\n",
        "17. What is the difference between a class variable and an instance variable ?\n",
        "\n",
        "Ans- A **class variable** is shared by all objects of a class, while an **instance variable** is unique to each object.  \n",
        "\n",
        "- **Class variable**: Defined inside the class but outside any method, shared by all instances.  \n",
        "- **Instance variable**: Defined inside a method using `self`, specific to each instance.  \n",
        "\n",
        "Example:  \n",
        "```python\n",
        "class Example:\n",
        "    class_var = 10  # Class variable (shared)\n",
        "\n",
        "    def __init__(self, value):\n",
        "        self.instance_var = value  # Instance variable (unique)\n",
        "```\n",
        "18. What is multiple inheritance in Python?\n",
        "\n",
        "Ans- Multiple inheritance in Python means a class can inherit from more than one parent class. This allows the child class to access attributes and methods from multiple classes.  \n",
        "\n",
        "Example:  \n",
        "```python\n",
        "class A:\n",
        "    def method_A(self):\n",
        "        print(\"Method from A\")\n",
        "\n",
        "class B:\n",
        "    def method_B(self):\n",
        "        print(\"Method from B\")\n",
        "\n",
        "class C(A, B):  # Multiple inheritance\n",
        "    pass\n",
        "\n",
        "obj = C()\n",
        "obj.method_A()  # Output: Method from A\n",
        "obj.method_B()  # Output: Method from B\n",
        "```\n",
        "\n",
        "19.Explain the purpose of ‘’__str__’ and ‘__repr__’ ‘ methods in Python.\n",
        "\n",
        "Ans- In Python:  \n",
        "\n",
        "- `__str__()` is for a user-friendly string representation of an object. It’s used by `print()`.  \n",
        "- `__repr__()` is for an official, detailed string representation, mainly for developers. It should return a valid Python expression that can recreate the object.  \n",
        "\n",
        "Example:  \n",
        "```python\n",
        "class Example:\n",
        "    def __str__(self):\n",
        "        return \"User-friendly output\"\n",
        "\n",
        "    def __repr__(self):\n",
        "        return \"Example()\"\n",
        "\n",
        "obj = Example()\n",
        "print(str(obj))  # User-friendly output\n",
        "print(repr(obj)) # Example()\n",
        "```\n",
        "20. What is the significance of the ‘super()’ function in Python ?\n",
        "\n",
        "Ans- The `super()` function in Python allows a child class to access methods and properties of its parent class. It is mainly used to call the parent class's constructor (`__init__`) or other methods, ensuring proper inheritance and code reuse.\n",
        "\n",
        "21. What is the significance of the __del__ method in Python?\n",
        "\n",
        "Ans- The `__del__` method in Python is called when an object is about to be destroyed. It is used to clean up resources like closing files or network connections. However, it is not always reliable because Python's garbage collector may delay or skip calling it.\n",
        "\n",
        "22. What is the difference between @staticmethod and @classmethod in Python?\n",
        "\n",
        "Ans- In Python:  \n",
        "\n",
        "- **@staticmethod**: A method that does not use `self` or `cls`. It behaves like a regular function but belongs to a class.  \n",
        "\n",
        "- **@classmethod**: A method that takes `cls` as the first parameter and can modify class-level attributes.  \n",
        "\n",
        "Example:  \n",
        "\n",
        "```python\n",
        "class MyClass:\n",
        "    class_var = \"Hello\"\n",
        "\n",
        "    @staticmethod\n",
        "    def static_method():\n",
        "        print(\"I don't use class or instance variables.\")\n",
        "\n",
        "    @classmethod\n",
        "    def class_method(cls):\n",
        "        print(f\"I can access class_var: {cls.class_var}\")\n",
        "\n",
        "MyClass.static_method()  # Works without instance\n",
        "MyClass.class_method()   # Can access class variables\n",
        "```\n",
        "\n",
        "23. How does polymorphism work in Python with inheritance?\n",
        "\n",
        "Ans- Polymorphism in Python with inheritance allows a child class to override or modify methods from a parent class. This means different child classes can have the same method name but behave differently.  \n",
        "\n",
        "### Example:  \n",
        "```python\n",
        "class Animal:\n",
        "    def speak(self):\n",
        "        return \"Some sound\"\n",
        "\n",
        "class Dog(Animal):\n",
        "    def speak(self):\n",
        "        return \"Bark\"\n",
        "\n",
        "class Cat(Animal):\n",
        "    def speak(self):\n",
        "        return \"Meow\"\n",
        "\n",
        "animals = [Dog(), Cat()]\n",
        "\n",
        "for animal in animals:\n",
        "    print(animal.speak())  # Output: Bark, Meow\n",
        "```\n",
        "\n",
        "Here, `speak()` works differently in `Dog` and `Cat`, demonstrating polymorphism.\n",
        "\n",
        "24.  What is method chaining in Python OOP ?\n",
        "\n",
        "Ans- Method chaining in Python OOP is calling multiple methods on the same object in a single line. It works by returning `self` from each method.  \n",
        "\n",
        "**Example:**  \n",
        "```python\n",
        "class Example:\n",
        "    def __init__(self, value):\n",
        "        self.value = value\n",
        "\n",
        "    def add(self, num):\n",
        "        self.value += num\n",
        "        return self  # Returns the object\n",
        "\n",
        "    def multiply(self, num):\n",
        "        self.value *= num\n",
        "        return self  # Returns the object\n",
        "\n",
        "obj = Example(5)\n",
        "result = obj.add(3).multiply(2)  # Method chaining\n",
        "print(result.value)  # Output: 16\n",
        "```\n",
        "\n",
        "Here, `add(3)` runs first, then `multiply(2)` runs on the updated object.\n",
        "\n",
        "25. What is the purpose of the __call__ method in Python ?\n",
        "\n",
        "Ans- The `__call__` method in Python makes an object behave like a function. If a class has `__call__`, its instances can be called like functions."
      ],
      "metadata": {
        "id": "qBKzF_mB3iml"
      }
    },
    {
      "cell_type": "markdown",
      "source": [
        "**Practical Questions**"
      ],
      "metadata": {
        "id": "PGPuQkEJ2JpT"
      }
    },
    {
      "cell_type": "markdown",
      "source": [
        "1. Create a parent class Animal with a method speak() that prints a generic message. Create a child class Dog\n",
        "that overrides the speak() method to print \"Bark!\"."
      ],
      "metadata": {
        "id": "9vgnGbgz2O19"
      }
    },
    {
      "cell_type": "code",
      "source": [
        "class Animal:\n",
        "    def speak(self):\n",
        "        print(\"Animal makes a sound\")\n",
        "\n",
        "class Dog(Animal):\n",
        "    def speak(self):\n",
        "        print(\"Bark!\")\n",
        "\n",
        "dog = Dog()\n",
        "dog.speak()  # Output: Bark!\n"
      ],
      "metadata": {
        "colab": {
          "base_uri": "https://localhost:8080/"
        },
        "id": "Kb_Gs01_2TyL",
        "outputId": "1b3be663-f158-4cfd-d9cb-4ba00c0ce795"
      },
      "execution_count": 1,
      "outputs": [
        {
          "output_type": "stream",
          "name": "stdout",
          "text": [
            "Bark!\n"
          ]
        }
      ]
    },
    {
      "cell_type": "markdown",
      "source": [
        "2. Write a program to create an abstract class Shape with a method area(). Derive classes Circle and Rectangle\n",
        "from it and implement the area() method in both."
      ],
      "metadata": {
        "id": "z35aHxmb2j9f"
      }
    },
    {
      "cell_type": "code",
      "source": [
        "from abc import ABC, abstractmethod\n",
        "\n",
        "# Abstract class\n",
        "class Shape(ABC):\n",
        "    @abstractmethod\n",
        "    def area(self):\n",
        "        pass\n",
        "\n",
        "# Circle class\n",
        "class Circle(Shape):\n",
        "    def __init__(self, radius):\n",
        "        self.radius = radius\n",
        "\n",
        "    def area(self):\n",
        "        return 3.14 * self.radius * self.radius\n",
        "\n",
        "# Rectangle class\n",
        "class Rectangle(Shape):\n",
        "    def __init__(self, length, width):\n",
        "        self.length = length\n",
        "        self.width = width\n",
        "\n",
        "    def area(self):\n",
        "        return self.length * self.width\n",
        "\n",
        "# Example usage\n",
        "circle = Circle(5)\n",
        "rectangle = Rectangle(4, 6)\n",
        "\n",
        "print(\"Circle Area:\", circle.area())\n",
        "print(\"Rectangle Area:\", rectangle.area())\n"
      ],
      "metadata": {
        "colab": {
          "base_uri": "https://localhost:8080/"
        },
        "id": "tDVyjro82pCU",
        "outputId": "fe1736d2-b47e-489c-c476-4d8902c1ef11"
      },
      "execution_count": 2,
      "outputs": [
        {
          "output_type": "stream",
          "name": "stdout",
          "text": [
            "Circle Area: 78.5\n",
            "Rectangle Area: 24\n"
          ]
        }
      ]
    },
    {
      "cell_type": "markdown",
      "source": [
        "3. Implement a multi-level inheritance scenario where a class Vehicle has an attribute type. Derive a class Car\n",
        "and further derive a class ElectricCar that adds a battery attribute."
      ],
      "metadata": {
        "id": "_I_xfbAg2y_9"
      }
    },
    {
      "cell_type": "code",
      "source": [
        "# Base class\n",
        "class Vehicle:\n",
        "    def __init__(self, type):\n",
        "        self.type = type\n",
        "\n",
        "# Derived class\n",
        "class Car(Vehicle):\n",
        "    def __init__(self, type, brand):\n",
        "        super().__init__(type)\n",
        "        self.brand = brand\n",
        "\n",
        "# Further derived class\n",
        "class ElectricCar(Car):\n",
        "    def __init__(self, type, brand, battery):\n",
        "        super().__init__(type, brand)\n",
        "        self.battery = battery\n",
        "\n",
        "# Creating an object\n",
        "my_car = ElectricCar(\"Electric\", \"Tesla\", \"100 kWh\")\n",
        "\n",
        "# Printing attributes\n",
        "print(my_car.type)     # Output: Electric\n",
        "print(my_car.brand)    # Output: Tesla\n",
        "print(my_car.battery)  # Output: 100 kWh\n"
      ],
      "metadata": {
        "colab": {
          "base_uri": "https://localhost:8080/"
        },
        "id": "d-2L3u7y24CK",
        "outputId": "7e2f88d2-7081-4576-e3fa-6e581eca5355"
      },
      "execution_count": 3,
      "outputs": [
        {
          "output_type": "stream",
          "name": "stdout",
          "text": [
            "Electric\n",
            "Tesla\n",
            "100 kWh\n"
          ]
        }
      ]
    },
    {
      "cell_type": "markdown",
      "source": [
        "4. Implement a multi-level inheritance scenario where a class Vehicle has an attribute type. Derive a class Car\n",
        "and further derive a class ElectricCar that adds a battery attribute."
      ],
      "metadata": {
        "id": "wtWoqirW3Igl"
      }
    },
    {
      "cell_type": "code",
      "source": [
        "# Base class\n",
        "class Vehicle:\n",
        "    def __init__(self, type):\n",
        "        self.type = type\n",
        "\n",
        "# Derived class from Vehicle\n",
        "class Car(Vehicle):\n",
        "    def __init__(self, type, brand):\n",
        "        super().__init__(type)\n",
        "        self.brand = brand\n",
        "\n",
        "# Further derived class from Car\n",
        "class ElectricCar(Car):\n",
        "    def __init__(self, type, brand, battery):\n",
        "        super().__init__(type, brand)\n",
        "        self.battery = battery\n",
        "\n",
        "# Example usage\n",
        "my_car = ElectricCar(\"Electric\", \"Tesla\", \"100 kWh\")\n",
        "print(f\"Type: {my_car.type}, Brand: {my_car.brand}, Battery: {my_car.battery}\")\n",
        "\n"
      ],
      "metadata": {
        "colab": {
          "base_uri": "https://localhost:8080/"
        },
        "id": "2SPiU_jH3MgX",
        "outputId": "143a1537-e2e9-42e6-a318-d553c947e085"
      },
      "execution_count": 6,
      "outputs": [
        {
          "output_type": "stream",
          "name": "stdout",
          "text": [
            "Type: Electric, Brand: Tesla, Battery: 100 kWh\n"
          ]
        }
      ]
    },
    {
      "cell_type": "markdown",
      "source": [
        "5. Write a program to demonstrate encapsulation by creating a class BankAccount with private attributes\n",
        "balance and methods to deposit, withdraw, and check balance."
      ],
      "metadata": {
        "id": "Rbb2pq_Z3qnh"
      }
    },
    {
      "cell_type": "code",
      "source": [
        "class BankAccount:\n",
        "    def __init__(self, initial_balance=0):\n",
        "        self.__balance = initial_balance  # Private attribute\n",
        "\n",
        "    def deposit(self, amount):\n",
        "        if amount > 0:\n",
        "            self.__balance += amount\n",
        "            print(f\"Deposited: {amount}\")\n",
        "        else:\n",
        "            print(\"Deposit amount must be positive.\")\n",
        "\n",
        "    def withdraw(self, amount):\n",
        "        if 0 < amount <= self.__balance:\n",
        "            self.__balance -= amount\n",
        "            print(f\"Withdrawn: {amount}\")\n",
        "        else:\n",
        "            print(\"Insufficient balance or invalid amount.\")\n",
        "\n",
        "    def check_balance(self):\n",
        "        print(f\"Current Balance: {self.__balance}\")\n",
        "\n",
        "# Example usage\n",
        "account = BankAccount(100)\n",
        "account.deposit(50)\n",
        "account.withdraw(30)\n",
        "account.check_balance()\n"
      ],
      "metadata": {
        "colab": {
          "base_uri": "https://localhost:8080/"
        },
        "id": "L5VCb8xM3u4o",
        "outputId": "cce10dbf-57b2-4252-8102-535323fec444"
      },
      "execution_count": 7,
      "outputs": [
        {
          "output_type": "stream",
          "name": "stdout",
          "text": [
            "Deposited: 50\n",
            "Withdrawn: 30\n",
            "Current Balance: 120\n"
          ]
        }
      ]
    },
    {
      "cell_type": "markdown",
      "source": [
        "6. Demonstrate runtime polymorphism using a method play() in a base class Instrument. Derive classes Guitar\n",
        "and Piano that implement their own version of play()."
      ],
      "metadata": {
        "id": "gy8UzMAw34Mj"
      }
    },
    {
      "cell_type": "code",
      "source": [
        "class Instrument:\n",
        "    def play(self):\n",
        "        print(\"Playing an instrument\")\n",
        "\n",
        "class Guitar(Instrument):\n",
        "    def play(self):\n",
        "        print(\"Playing the guitar\")\n",
        "\n",
        "class Piano(Instrument):\n",
        "    def play(self):\n",
        "        print(\"Playing the piano\")\n",
        "\n",
        "# Runtime Polymorphism\n",
        "instruments = [Guitar(), Piano()]\n",
        "\n",
        "for instrument in instruments:\n",
        "    instrument.play()\n"
      ],
      "metadata": {
        "colab": {
          "base_uri": "https://localhost:8080/"
        },
        "id": "965EGCNU39Px",
        "outputId": "8c341c54-4b68-47c6-eb25-c3b3a0b40b1f"
      },
      "execution_count": 8,
      "outputs": [
        {
          "output_type": "stream",
          "name": "stdout",
          "text": [
            "Playing the guitar\n",
            "Playing the piano\n"
          ]
        }
      ]
    },
    {
      "cell_type": "markdown",
      "source": [
        "7. Create a class MathOperations with a class method add_numbers() to add two numbers and a static\n",
        "method subtract_numbers() to subtract two numbers."
      ],
      "metadata": {
        "id": "4i9216kz4pQT"
      }
    },
    {
      "cell_type": "code",
      "source": [
        "class MathOperations:\n",
        "    @classmethod\n",
        "    def add_numbers(cls, a, b):\n",
        "        return a + b\n",
        "\n",
        "    @staticmethod\n",
        "    def subtract_numbers(a, b):\n",
        "        return a - b\n",
        "\n",
        "# Example usage:\n",
        "print(MathOperations.add_numbers(5, 3))  # Output: 8\n",
        "print(MathOperations.subtract_numbers(5, 3))  # Output: 2\n"
      ],
      "metadata": {
        "colab": {
          "base_uri": "https://localhost:8080/"
        },
        "id": "yVkrta6m4yCC",
        "outputId": "4f09b2fb-39df-42d4-a3d4-11108145f898"
      },
      "execution_count": 9,
      "outputs": [
        {
          "output_type": "stream",
          "name": "stdout",
          "text": [
            "8\n",
            "2\n"
          ]
        }
      ]
    },
    {
      "cell_type": "markdown",
      "source": [
        "8. Implement a class Person with a class method to count the total number of persons created."
      ],
      "metadata": {
        "id": "QZbSxQvO5Vgj"
      }
    },
    {
      "cell_type": "code",
      "source": [
        "class Person:\n",
        "    count = 0  # Class variable to count persons\n",
        "\n",
        "    def __init__(self):\n",
        "        Person.count += 1  # Increase count when a new person is created\n",
        "\n",
        "    @classmethod\n",
        "    def total_persons(cls):\n",
        "        return cls.count  # Return the total count\n",
        "\n",
        "# Example usage\n",
        "p1 = Person()\n",
        "p2 = Person()\n",
        "print(Person.total_persons())  # Output: 2\n"
      ],
      "metadata": {
        "colab": {
          "base_uri": "https://localhost:8080/"
        },
        "id": "jNUfcOMY5l8N",
        "outputId": "2dca5406-6fde-4fd5-a077-78fac087fe54"
      },
      "execution_count": 10,
      "outputs": [
        {
          "output_type": "stream",
          "name": "stdout",
          "text": [
            "2\n"
          ]
        }
      ]
    },
    {
      "cell_type": "markdown",
      "source": [
        "9. Write a class Fraction with attributes numerator and denominator. Override the str method to display the\n",
        "fraction as \"numerator/denominator\"."
      ],
      "metadata": {
        "id": "fQc3EOY05tXX"
      }
    },
    {
      "cell_type": "code",
      "source": [
        "class Fraction:\n",
        "    def __init__(self, numerator, denominator):\n",
        "        self.numerator = numerator\n",
        "        self.denominator = denominator\n",
        "\n",
        "    def __str__(self):\n",
        "        return f\"{self.numerator}/{self.denominator}\"\n",
        "\n",
        "# Example usage:\n",
        "f = Fraction(3, 4)\n",
        "print(f)  # Output: 3/4\n"
      ],
      "metadata": {
        "colab": {
          "base_uri": "https://localhost:8080/"
        },
        "id": "uT4Pnm6N5yR5",
        "outputId": "13712d3e-9aae-4d7a-ef2f-c5d1b8201e23"
      },
      "execution_count": 11,
      "outputs": [
        {
          "output_type": "stream",
          "name": "stdout",
          "text": [
            "3/4\n"
          ]
        }
      ]
    },
    {
      "cell_type": "markdown",
      "source": [
        "10. Demonstrate operator overloading by creating a class Vector and overriding the add method to add two\n",
        "vectors."
      ],
      "metadata": {
        "id": "iebKLAIY57Ax"
      }
    },
    {
      "cell_type": "code",
      "source": [
        "class Vector:\n",
        "    def __init__(self, x, y):\n",
        "        self.x = x\n",
        "        self.y = y\n",
        "\n",
        "    def __add__(self, other):\n",
        "        return Vector(self.x + other.x, self.y + other.y)\n",
        "\n",
        "    def __str__(self):\n",
        "        return f\"({self.x}, {self.y})\"\n",
        "\n",
        "v1 = Vector(2, 3)\n",
        "v2 = Vector(4, 5)\n",
        "v3 = v1 + v2  # Calls __add__ method\n",
        "\n",
        "print(v3)  # Output: (6, 8)\n"
      ],
      "metadata": {
        "colab": {
          "base_uri": "https://localhost:8080/"
        },
        "id": "IJHb2-Yf5_HS",
        "outputId": "478204b4-e07e-4db2-8c8a-6a0a673ba0a1"
      },
      "execution_count": 12,
      "outputs": [
        {
          "output_type": "stream",
          "name": "stdout",
          "text": [
            "(6, 8)\n"
          ]
        }
      ]
    },
    {
      "cell_type": "markdown",
      "source": [
        "11. Create a class Person with attributes name and age. Add a method greet() that prints \"Hello, my name is\n",
        "{name} and I am {age} years old."
      ],
      "metadata": {
        "id": "aXtJxsAH6W5w"
      }
    },
    {
      "cell_type": "code",
      "source": [
        "class Person:\n",
        "    def __init__(self, name, age):\n",
        "        self.name = name\n",
        "        self.age = age\n",
        "\n",
        "    def greet(self):\n",
        "        print(f\"Hello, my name is {self.name} and I am {self.age} years old.\")\n",
        "\n",
        "# Example usage:\n",
        "p = Person(\"Alice\", 25)\n",
        "p.greet()\n"
      ],
      "metadata": {
        "colab": {
          "base_uri": "https://localhost:8080/"
        },
        "id": "qppg95b78e2G",
        "outputId": "efde5fc7-7ee2-4a62-8675-ed4b032dd5a2"
      },
      "execution_count": 13,
      "outputs": [
        {
          "output_type": "stream",
          "name": "stdout",
          "text": [
            "Hello, my name is Alice and I am 25 years old.\n"
          ]
        }
      ]
    },
    {
      "cell_type": "markdown",
      "source": [
        "12. Implement a class Student with attributes name and grades. Create a method average_grade() to compute\n",
        "the average of the grades."
      ],
      "metadata": {
        "id": "xzm1mbn-8rWl"
      }
    },
    {
      "cell_type": "code",
      "source": [
        "class Student:\n",
        "    def __init__(self, name, grades):\n",
        "        self.name = name\n",
        "        self.grades = grades\n",
        "\n",
        "    def average_grade(self):\n",
        "        return sum(self.grades) / len(self.grades) if self.grades else 0\n",
        "\n",
        "# Example usage\n",
        "student = Student(\"Alice\", [85, 90, 78])\n",
        "print(student.average_grade())  # Output: 84.33\n"
      ],
      "metadata": {
        "colab": {
          "base_uri": "https://localhost:8080/"
        },
        "id": "jPLCV1jd8uxF",
        "outputId": "3935c11c-2963-4963-dfa9-63aa7930041a"
      },
      "execution_count": 14,
      "outputs": [
        {
          "output_type": "stream",
          "name": "stdout",
          "text": [
            "84.33333333333333\n"
          ]
        }
      ]
    },
    {
      "cell_type": "markdown",
      "source": [
        "13. Create a class Rectangle with methods set_dimensions() to set the dimensions and area() to calculate the\n",
        "area."
      ],
      "metadata": {
        "id": "0ST3xowN835G"
      }
    },
    {
      "cell_type": "code",
      "source": [
        "class Rectangle:\n",
        "    def set_dimensions(self, length, width):\n",
        "        self.length = length\n",
        "        self.width = width\n",
        "\n",
        "    def area(self):\n",
        "        return self.length * self.width\n",
        "\n",
        "# Example usage\n",
        "rect = Rectangle()\n",
        "rect.set_dimensions(5, 3)\n",
        "print(rect.area())  # Output: 15\n"
      ],
      "metadata": {
        "colab": {
          "base_uri": "https://localhost:8080/"
        },
        "id": "Gl4dji998_T4",
        "outputId": "6f07172f-cba3-45bc-8f98-3fff5fa2547c"
      },
      "execution_count": 15,
      "outputs": [
        {
          "output_type": "stream",
          "name": "stdout",
          "text": [
            "15\n"
          ]
        }
      ]
    },
    {
      "cell_type": "markdown",
      "source": [
        "14. Create a class Employee with a method calculate_salary() that computes the salary based on hours worked\n",
        "and hourly rate. Create a derived class Manager that adds a bonus to the salary."
      ],
      "metadata": {
        "id": "MI9jmsT-9Bc2"
      }
    },
    {
      "cell_type": "code",
      "source": [
        "class Employee:\n",
        "    def __init__(self, hours_worked, hourly_rate):\n",
        "        self.hours_worked = hours_worked\n",
        "        self.hourly_rate = hourly_rate\n",
        "\n",
        "    def calculate_salary(self):\n",
        "        return self.hours_worked * self.hourly_rate\n",
        "\n",
        "class Manager(Employee):\n",
        "    def __init__(self, hours_worked, hourly_rate, bonus):\n",
        "        super().__init__(hours_worked, hourly_rate)\n",
        "        self.bonus = bonus\n",
        "\n",
        "    def calculate_salary(self):\n",
        "        return super().calculate_salary() + self.bonus\n",
        "\n",
        "# Example usage\n",
        "emp = Employee(40, 20)  # 40 hours, $20 per hour\n",
        "print(emp.calculate_salary())  # Output: 800\n",
        "\n",
        "mgr = Manager(40, 20, 500)  # 40 hours, $20 per hour, $500 bonus\n",
        "print(mgr.calculate_salary())  # Output: 1300\n"
      ],
      "metadata": {
        "colab": {
          "base_uri": "https://localhost:8080/"
        },
        "id": "oEGwVrJq9EzK",
        "outputId": "c4a7ac6f-eced-4c55-a6c1-64eb718537fa"
      },
      "execution_count": 16,
      "outputs": [
        {
          "output_type": "stream",
          "name": "stdout",
          "text": [
            "800\n",
            "1300\n"
          ]
        }
      ]
    },
    {
      "cell_type": "markdown",
      "source": [
        "15. Create a class Product with attributes name, price, and quantity. Implement a method total_price() that\n",
        "calculates the total price of the product."
      ],
      "metadata": {
        "id": "1hLMAXIW9Opd"
      }
    },
    {
      "cell_type": "code",
      "source": [
        "class Product:\n",
        "    def __init__(self, name, price, quantity):\n",
        "        self.name = name\n",
        "        self.price = price\n",
        "        self.quantity = quantity\n",
        "\n",
        "    def total_price(self):\n",
        "        return self.price * self.quantity\n",
        "\n",
        "# Example usage:\n",
        "p = Product(\"Laptop\", 500, 2)\n",
        "print(p.total_price())  # Output: 1000\n"
      ],
      "metadata": {
        "colab": {
          "base_uri": "https://localhost:8080/"
        },
        "id": "AlsbMVdA9SN_",
        "outputId": "6e44214f-ddb7-42b6-c09c-3951b3e13a58"
      },
      "execution_count": 17,
      "outputs": [
        {
          "output_type": "stream",
          "name": "stdout",
          "text": [
            "1000\n"
          ]
        }
      ]
    },
    {
      "cell_type": "markdown",
      "source": [
        "16. Create a class Animal with an abstract method sound(). Create two derived classes Cow and Sheep that\n",
        "implement the sound() method."
      ],
      "metadata": {
        "id": "v-ODMwcbAUCB"
      }
    },
    {
      "cell_type": "code",
      "source": [
        "from abc import ABC, abstractmethod\n",
        "\n",
        "class Animal(ABC):\n",
        "    @abstractmethod\n",
        "    def sound(self):\n",
        "        pass\n",
        "\n",
        "class Cow(Animal):\n",
        "    def sound(self):\n",
        "        return \"Moo\"\n",
        "\n",
        "class Sheep(Animal):\n",
        "    def sound(self):\n",
        "        return \"Baa\"\n",
        "\n",
        "cow = Cow()\n",
        "sheep = Sheep()\n",
        "\n",
        "print(cow.sound())   # Output: Moo\n",
        "print(sheep.sound()) # Output: Baa\n"
      ],
      "metadata": {
        "colab": {
          "base_uri": "https://localhost:8080/"
        },
        "id": "mcrq3yg_AXED",
        "outputId": "a4c741f0-7183-40d0-8c7b-38a253398104"
      },
      "execution_count": 18,
      "outputs": [
        {
          "output_type": "stream",
          "name": "stdout",
          "text": [
            "Moo\n",
            "Baa\n"
          ]
        }
      ]
    },
    {
      "cell_type": "markdown",
      "source": [
        "17. Create a class Book with attributes title, author, and year_published. Add a method get_book_info() that\n",
        "returns a formatted string with the book's details."
      ],
      "metadata": {
        "id": "81G6AYdXBp9s"
      }
    },
    {
      "cell_type": "code",
      "source": [
        "class Book:\n",
        "    def __init__(self, title, author, year_published):\n",
        "        self.title = title\n",
        "        self.author = author\n",
        "        self.year_published = year_published\n",
        "\n",
        "    def get_book_info(self):\n",
        "        return f\"{self.title} by {self.author}, published in {self.year_published}\"\n",
        "\n",
        "# Example usage\n",
        "book = Book(\"Python Basics\", \"John Doe\", 2020)\n",
        "print(book.get_book_info())\n"
      ],
      "metadata": {
        "colab": {
          "base_uri": "https://localhost:8080/"
        },
        "id": "SAFUihiOBtPb",
        "outputId": "11728b37-22d5-4be4-e2c4-4729b7a515a0"
      },
      "execution_count": 19,
      "outputs": [
        {
          "output_type": "stream",
          "name": "stdout",
          "text": [
            "Python Basics by John Doe, published in 2020\n"
          ]
        }
      ]
    },
    {
      "cell_type": "markdown",
      "source": [
        "18. Create a class House with attributes address and price. Create a derived class Mansion that adds an\n",
        "attribute number_of_rooms."
      ],
      "metadata": {
        "id": "TmO3Lh96CCfZ"
      }
    },
    {
      "cell_type": "code",
      "source": [
        "class House:\n",
        "    def __init__(self, address, price):\n",
        "        self.address = address\n",
        "        self.price = price\n",
        "\n",
        "class Mansion(House):\n",
        "    def __init__(self, address, price, number_of_rooms):\n",
        "        super().__init__(address, price)\n",
        "        self.number_of_rooms = number_of_rooms\n",
        "\n",
        "# Example usage\n",
        "m = Mansion(\"123 Luxury St\", 5000000, 10)\n",
        "print(m.address, m.price, m.number_of_rooms)\n"
      ],
      "metadata": {
        "colab": {
          "base_uri": "https://localhost:8080/"
        },
        "id": "PKXo33k3CHZU",
        "outputId": "f2a29c90-ad4a-4668-c385-ad51a8ef055d"
      },
      "execution_count": 20,
      "outputs": [
        {
          "output_type": "stream",
          "name": "stdout",
          "text": [
            "123 Luxury St 5000000 10\n"
          ]
        }
      ]
    }
  ]
}